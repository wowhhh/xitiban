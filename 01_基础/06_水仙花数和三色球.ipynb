{
 "cells": [
  {
   "cell_type": "markdown",
   "metadata": {},
   "source": [
    "#### 编写一个程序，求100-999之间的所有水仙花数\n",
    "- 如果一个3位数等于其各位数字的立方和，则称这个数为水仙花数。例如：153 = 1^3 + 5^3 + 3^3，因此153就是一个水仙花数"
   ]
  },
  {
   "cell_type": "code",
   "execution_count": 13,
   "metadata": {},
   "outputs": [
    {
     "name": "stdout",
     "output_type": "stream",
     "text": [
      "153  是水仙花数\n",
      "370  是水仙花数\n",
      "371  是水仙花数\n",
      "407  是水仙花数\n",
      "153\n",
      "370\n",
      "371\n",
      "407\n"
     ]
    }
   ],
   "source": [
    "# 水仙花数\n",
    "for i in range(100,1000):\n",
    "    g = i%10\n",
    "    temp = i/10\n",
    "    s = int(temp)%10  #强制类型转化为int 类型\n",
    "    temp = temp/10\n",
    "    b = int(temp)%10\n",
    "    if i == g*g*g + s*s*s + b*b*b:\n",
    "        print(i,\" 是水仙花数\")\n",
    "        \n",
    "        \n",
    "# 解法2\n",
    "for i in range(100,1000):\n",
    "    temp = list(str(i))\n",
    "    a = int(temp[0])\n",
    "    b = int(temp[1])\n",
    "    c = int(temp[2])\n",
    "    \n",
    "    if a**3 + b**3 + c**3 ==i:\n",
    "        print(i)"
   ]
  },
  {
   "cell_type": "markdown",
   "metadata": {},
   "source": [
    "#### 三色球问题\n",
    "- 有红黄蓝三种颜色的小球 ，其中红球3个，黄球3个，绿球6个。先将12个求混合在一个盒子中，从中任意摸出8个，编程计算摸出求的各种颜色dap"
   ]
  },
  {
   "cell_type": "code",
   "execution_count": 11,
   "metadata": {},
   "outputs": [
    {
     "name": "stdout",
     "output_type": "stream",
     "text": [
      "红球 *  0 黄球： 2 绿球： 6\n",
      "红球 *  0 黄球： 3 绿球： 5\n",
      "红球 *  1 黄球： 1 绿球： 6\n",
      "红球 *  1 黄球： 2 绿球： 5\n",
      "红球 *  1 黄球： 3 绿球： 4\n",
      "红球 *  2 黄球： 0 绿球： 6\n",
      "红球 *  2 黄球： 1 绿球： 5\n",
      "红球 *  2 黄球： 2 绿球： 4\n",
      "红球 *  2 黄球： 3 绿球： 3\n",
      "红球 *  3 黄球： 0 绿球： 5\n",
      "红球 *  3 黄球： 1 绿球： 4\n",
      "红球 *  3 黄球： 2 绿球： 3\n",
      "红球 *  3 黄球： 3 绿球： 2\n"
     ]
    }
   ],
   "source": [
    "# 循环嵌套\n",
    "\n",
    "for red in range(0,4):  # 红球可能摸 0 - 3个\n",
    "   \n",
    "    for yellow in range(0,4) :# 黄球也是摸 0-3个\n",
    "        # 那么现在处理剩下的球的个数，剩几个就都摸绿球\n",
    "        green = 8 - red - yellow\n",
    "        if green <= 6:\n",
    "            \n",
    "            print(\"红球 * \",red,\"黄球：\",yellow,\"绿球：\",green)\n",
    "        "
   ]
  }
 ],
 "metadata": {
  "kernelspec": {
   "display_name": "Python 3",
   "language": "python",
   "name": "python3"
  },
  "language_info": {
   "codemirror_mode": {
    "name": "ipython",
    "version": 3
   },
   "file_extension": ".py",
   "mimetype": "text/x-python",
   "name": "python",
   "nbconvert_exporter": "python",
   "pygments_lexer": "ipython3",
   "version": "3.7.3"
  }
 },
 "nbformat": 4,
 "nbformat_minor": 2
}
