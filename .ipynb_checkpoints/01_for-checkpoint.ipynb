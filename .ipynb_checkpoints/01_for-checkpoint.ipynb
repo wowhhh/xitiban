{
 "cells": [
  {
   "cell_type": "markdown",
   "metadata": {},
   "source": [
    "#### 简单图形打印\n",
    "* * * * *\n",
    "* * * * *\n",
    "* * * * *\n",
    "* * * * *"
   ]
  },
  {
   "cell_type": "code",
   "execution_count": 2,
   "metadata": {},
   "outputs": [
    {
     "name": "stdout",
     "output_type": "stream",
     "text": [
      "\n",
      "* * * * * \n",
      "* * * * * \n",
      "* * * * * \n",
      "* * * * * "
     ]
    }
   ],
   "source": [
    "for i in range(0,4):\n",
    "    print()\n",
    "    for j in range(0,5):\n",
    "        print('*',end=\" \")"
   ]
  },
  {
   "cell_type": "markdown",
   "metadata": {},
   "source": [
    "#### 简单图形打印\n",
    "* * * * *\n",
    "*       *\n",
    "*       *\n",
    "* * * * *"
   ]
  },
  {
   "cell_type": "code",
   "execution_count": 5,
   "metadata": {},
   "outputs": [
    {
     "name": "stdout",
     "output_type": "stream",
     "text": [
      "\n",
      "* * * * * \n",
      "*       *\n",
      "*       *\n",
      "* * * * * "
     ]
    }
   ],
   "source": [
    "for i in range(0,4):\n",
    "    print()\n",
    "    if i ==0 or i==3:\n",
    "        for j in range(0,5):\n",
    "            print('*',end=\" \")\n",
    "    else :\n",
    "        print(\"*\",end=\"       *\")"
   ]
  },
  {
   "cell_type": "code",
   "execution_count": null,
   "metadata": {},
   "outputs": [],
   "source": []
  },
  {
   "cell_type": "code",
   "execution_count": null,
   "metadata": {},
   "outputs": [],
   "source": []
  },
  {
   "cell_type": "code",
   "execution_count": null,
   "metadata": {},
   "outputs": [],
   "source": []
  }
 ],
 "metadata": {
  "kernelspec": {
   "display_name": "Python 3",
   "language": "python",
   "name": "python3"
  },
  "language_info": {
   "codemirror_mode": {
    "name": "ipython",
    "version": 3
   },
   "file_extension": ".py",
   "mimetype": "text/x-python",
   "name": "python",
   "nbconvert_exporter": "python",
   "pygments_lexer": "ipython3",
   "version": "3.7.3"
  }
 },
 "nbformat": 4,
 "nbformat_minor": 2
}
