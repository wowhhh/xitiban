{
 "cells": [
  {
   "cell_type": "markdown",
   "metadata": {},
   "source": [
    "#### append()和extend()和insert()\n",
    "- append ：追加，附加，增补 在列表末尾添加新的对象\n",
    "- extend ：列表末尾一次性追加另一个序列中的多个值（用新列表扩展原来的列表）。\n",
    "- insert : 将对象插入列表"
   ]
  },
  {
   "cell_type": "markdown",
   "metadata": {},
   "source": [
    "#### 假定给出一个列表 member= [\"xx\",\"yy\",\"zz\",\"sss\"]。想改变成 member= [\"xx\",99,\"yy\",\"88\",\"zz\",\"00\",\"sss\",\"2333\"]，改如何操作"
   ]
  },
  {
   "cell_type": "markdown",
   "metadata": {},
   "source": [
    "#### 对于以下列表，修改里面的汉字“王王王” 为“王毅博”  ls = [1,[2,['王王王'],3,4],5,6,7,8,9]"
   ]
  },
  {
   "cell_type": "markdown",
   "metadata": {},
   "source": [
    "#### 将下列推导式还原出来\n",
    "- ls = [(x,y) for x in range(10) for y in range(10) if x%2==0 if y%2!=0]"
   ]
  }
 ],
 "metadata": {
  "kernelspec": {
   "display_name": "Python 3",
   "language": "python",
   "name": "python3"
  },
  "language_info": {
   "codemirror_mode": {
    "name": "ipython",
    "version": 3
   },
   "file_extension": ".py",
   "mimetype": "text/x-python",
   "name": "python",
   "nbconvert_exporter": "python",
   "pygments_lexer": "ipython3",
   "version": "3.7.3"
  }
 },
 "nbformat": 4,
 "nbformat_minor": 2
}
