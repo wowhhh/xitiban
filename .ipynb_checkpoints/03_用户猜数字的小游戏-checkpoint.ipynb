{
 "cells": [
  {
   "cell_type": "markdown",
   "metadata": {},
   "source": [
    "#### 10 < cost < 50的等价表达式"
   ]
  },
  {
   "cell_type": "code",
   "execution_count": 3,
   "metadata": {},
   "outputs": [
    {
     "name": "stdout",
     "output_type": "stream",
     "text": [
      "输入整数：50\n",
      "50 不再范围内！\n"
     ]
    }
   ],
   "source": [
    "cost = input(\"输入整数：\")\n",
    "cost = int(cost)\n",
    "if cost >10 and cost <50:\n",
    "    print(cost)\n",
    "else :\n",
    "    print(cost,\"不再范围内！\")"
   ]
  },
  {
   "cell_type": "markdown",
   "metadata": {},
   "source": [
    "#### 使用Int将小数转换成整数，结果是向上取整还是向下取整"
   ]
  },
  {
   "cell_type": "code",
   "execution_count": 23,
   "metadata": {},
   "outputs": [
    {
     "name": "stdout",
     "output_type": "stream",
     "text": [
      "3\n",
      "3\n"
     ]
    }
   ],
   "source": [
    "print(int(3.4))\n",
    "print(int(3.9))\n",
    "# 向下取整"
   ]
  },
  {
   "cell_type": "markdown",
   "metadata": {},
   "source": [
    "#### 判断年份是否为闰年\n",
    "- 能被4整除，并且不能被100整除\n",
    "- 或者能被400整除"
   ]
  },
  {
   "cell_type": "code",
   "execution_count": 8,
   "metadata": {},
   "outputs": [
    {
     "name": "stdout",
     "output_type": "stream",
     "text": [
      "请输入年份：2016\n",
      "2016 年是闰年的啦！\n"
     ]
    }
   ],
   "source": [
    "year = input(\"请输入年份：\")\n",
    "year = int(year)\n",
    "if year%4 == 0 and year%100 !=0 or year %400==0:\n",
    "    print(year,\"年是闰年的啦！\")\n",
    "else :\n",
    "    print(year,\"年不是闰年的啦！\")"
   ]
  },
  {
   "cell_type": "markdown",
   "metadata": {},
   "source": [
    "#### 给用户三次机会，猜想我们程序生成的一个数字A，\n",
    "#### 每次用户猜想过后会提示数字是否正确以及用户输入的数字是大于还是小于A，当机会用尽之后提示用户已经输掉了游戏"
   ]
  },
  {
   "cell_type": "code",
   "execution_count": 21,
   "metadata": {},
   "outputs": [
    {
     "name": "stdout",
     "output_type": "stream",
     "text": [
      "您有三次猜数字的机会：\n",
      "85\n",
      "请输入第 1 次的猜测：\n",
      "50\n",
      "小了\n",
      "请输入第 2 次的猜测：\n",
      "84\n",
      "小了\n",
      "请输入第 3 次的猜测：\n",
      "85\n",
      "正确！ 使用次数： 3\n"
     ]
    }
   ],
   "source": [
    "import random\n",
    "\n",
    "times = 3\n",
    "A = random.randint(1,100)\n",
    "print(\"您有三次猜数字的机会：\")\n",
    "time =0 \n",
    "print(A)\n",
    "while time < times:\n",
    "    print(\"请输入第\",time+1,\"次的猜测：\")\n",
    "    number = input()\n",
    "    number = int(number)\n",
    "    if number<A:\n",
    "        print(\"小了\")\n",
    "    elif number > A:\n",
    "        print(\"大了\")\n",
    "    else :\n",
    "        print(\"正确！\",\"使用次数：\",time+1)\n",
    "    time+=1"
   ]
  }
 ],
 "metadata": {
  "kernelspec": {
   "display_name": "Python 3",
   "language": "python",
   "name": "python3"
  },
  "language_info": {
   "codemirror_mode": {
    "name": "ipython",
    "version": 3
   },
   "file_extension": ".py",
   "mimetype": "text/x-python",
   "name": "python",
   "nbconvert_exporter": "python",
   "pygments_lexer": "ipython3",
   "version": "3.7.3"
  }
 },
 "nbformat": 4,
 "nbformat_minor": 2
}
