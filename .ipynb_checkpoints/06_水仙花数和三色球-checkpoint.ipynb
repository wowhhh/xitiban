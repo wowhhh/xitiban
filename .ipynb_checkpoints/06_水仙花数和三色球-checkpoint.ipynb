{
 "cells": [
  {
   "cell_type": "markdown",
   "metadata": {},
   "source": [
    "#### 编写一个程序，求100-999之间的所有水仙花数\n",
    "- 如果一个3位数等于其各位数字的立方和，则称这个数为水仙花数。例如：153 = 1^3 + 5^3 + 3^3，因此153就是一个水仙花数"
   ]
  },
  {
   "cell_type": "code",
   "execution_count": 5,
   "metadata": {},
   "outputs": [
    {
     "name": "stdout",
     "output_type": "stream",
     "text": [
      "153  是水仙花数\n",
      "370  是水仙花数\n",
      "371  是水仙花数\n",
      "407  是水仙花数\n"
     ]
    }
   ],
   "source": [
    "# 水仙花数\n",
    "for i in range(100,1000):\n",
    "    g = i%10\n",
    "    temp = i/10\n",
    "    s = int(temp)%10  #强制类型转化为int 类型\n",
    "    temp = temp/10\n",
    "    b = int(temp)%10\n",
    "    if i == g*g*g + s*s*s + b*b*b:\n",
    "        print(i,\" 是水仙花数\")\n"
   ]
  },
  {
   "cell_type": "code",
   "execution_count": null,
   "metadata": {},
   "outputs": [],
   "source": []
  }
 ],
 "metadata": {
  "kernelspec": {
   "display_name": "Python 3",
   "language": "python",
   "name": "python3"
  },
  "language_info": {
   "codemirror_mode": {
    "name": "ipython",
    "version": 3
   },
   "file_extension": ".py",
   "mimetype": "text/x-python",
   "name": "python",
   "nbconvert_exporter": "python",
   "pygments_lexer": "ipython3",
   "version": "3.7.3"
  }
 },
 "nbformat": 4,
 "nbformat_minor": 2
}
