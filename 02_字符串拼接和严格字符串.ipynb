{
 "cells": [
  {
   "cell_type": "markdown",
   "metadata": {},
   "source": [
    "#### 什么是BIF？ Python3提供了多少个BIF?\n",
    "- 是内建函数\n",
    "- 68个内建函数"
   ]
  },
  {
   "cell_type": "markdown",
   "metadata": {},
   "source": [
    "#### = 与 == 区别\n",
    "- =用来赋值\n",
    "- == 用来 判断是否相等"
   ]
  },
  {
   "cell_type": "markdown",
   "metadata": {},
   "source": [
    "#### 字符串拼接\n",
    "- '我'+'爱'+'你'"
   ]
  },
  {
   "cell_type": "code",
   "execution_count": 2,
   "metadata": {},
   "outputs": [
    {
     "name": "stdout",
     "output_type": "stream",
     "text": [
      "输入姓名wyb\n",
      "你好， wyb\n",
      "你好,wyb\n"
     ]
    }
   ],
   "source": [
    "name = input(\"输入姓名\")\n",
    "print(\"你好，\",name)\n",
    "print(\"你好,\" + name)"
   ]
  },
  {
   "cell_type": "markdown",
   "metadata": {},
   "source": [
    "#### 要求用户输入1-100的数字，符合要求提示"
   ]
  },
  {
   "cell_type": "code",
   "execution_count": 3,
   "metadata": {},
   "outputs": [
    {
     "name": "stdout",
     "output_type": "stream",
     "text": [
      "请输入：3\n",
      "<class 'str'>\n",
      "666\n"
     ]
    }
   ],
   "source": [
    "temp = input(\"请输入：\")\n",
    "print(type(temp))\n",
    "if temp.isdigit():  # 判断用户数输入的字符里面是不是都是数字\n",
    "    print(\"666\")\n",
    "else:\n",
    "    print(\"xxx\")"
   ]
  },
  {
   "cell_type": "code",
   "execution_count": null,
   "metadata": {},
   "outputs": [],
   "source": []
  }
 ],
 "metadata": {
  "kernelspec": {
   "display_name": "Python 3",
   "language": "python",
   "name": "python3"
  },
  "language_info": {
   "codemirror_mode": {
    "name": "ipython",
    "version": 3
   },
   "file_extension": ".py",
   "mimetype": "text/x-python",
   "name": "python",
   "nbconvert_exporter": "python",
   "pygments_lexer": "ipython3",
   "version": "3.7.3"
  }
 },
 "nbformat": 4,
 "nbformat_minor": 2
}
