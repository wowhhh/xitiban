{
 "cells": [
  {
   "cell_type": "markdown",
   "metadata": {},
   "source": [
    "# Git安装\n",
    "- windows：\n",
    "- Linux:apt-get install git或者\n",
    "    - aptitude search git\n",
    "    - aptitude show git\n",
    "    - aptitude install git\n",
    "    \n",
    "# Git基本使用\n",
    "- 创建仓库\n",
    "\n",
    "    - mkdir mygit 创建mygit文件夹\n",
    "    - cd mygit 进入此目录\n",
    "    - git init 创建空的仓库\n",
    "    - ll 查看当前目录下的文件夹\n",
    "    - ll -a ./.git 显示当前文件夹下的git下的内容\n",
    "        - 值得注意的是，git保存的是所有的历史版本，所以git的文件夹可能\n",
    "- 一些概念\n",
    "    - 工作区\n",
    "        - 大概就是敲代码的地方 \n",
    "        - git add 文件名：向暂存区添加\n",
    "    - 暂存区\n",
    "        - 可以放很多文件，工作区的文件add进入暂存区。此处使用git commit\n",
    "        - 配置问题https://blog.csdn.net/qq_25958497/article/details/78817821\n",
    "        - 还有一个问题就是，提交要写插入的信息，就类似于记录做了哪些修改。\n",
    "        - 直接使用git commit的时候，系统会显示vim让我添加信息。我也可以自己添加。\n",
    "        - git commit -m \"要添加的信息\" 这个命令就不会显示vim了 \n",
    "        - [master b00ba81]  booba81是版本号\n",
    "        - git status 查看仓库状态\n",
    "            - 无文件要提交，干净的工作区 ：三个地方是统一的\n",
    "        - git rm 删除文件，删除的应该是暂存区的\n",
    "        - git log 查看日志\n",
    "        - git reset 唯一ID\n",
    "        - git reset --hard 唯一ID\n",
    "\n",
    "    - 软件仓库\n",
    "        - 暂存区commit到此处，以后可以来重新返回老版本\n",
    "# Github\n",
    "- github:创建项目/仓库\n",
    "    - 克隆习题库git仓库到本地：\n",
    "    git clone https://Augsnano@bitbucket.org/Augsnano/e_tulingxueyuan.git\n",
    "- \n"
   ]
  }
 ],
 "metadata": {
  "kernelspec": {
   "display_name": "Python 3",
   "language": "python",
   "name": "python3"
  },
  "language_info": {
   "codemirror_mode": {
    "name": "ipython",
    "version": 3
   },
   "file_extension": ".py",
   "mimetype": "text/x-python",
   "name": "python",
   "nbconvert_exporter": "python",
   "pygments_lexer": "ipython3",
   "version": "3.6.3"
  }
 },
 "nbformat": 4,
 "nbformat_minor": 2
}
