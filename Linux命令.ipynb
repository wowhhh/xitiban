{
 "cells": [
  {
   "cell_type": "markdown",
   "metadata": {},
   "source": [
    "# L\n",
    "    - cd 返回主目录\n",
    "    - cd.. 返回上一级\n",
    "    - rm 文件名 删除文件\n",
    "    - ll 查看文件夹下的文件名\n",
    "# Vim\n",
    "    - i \n",
    "    - :wq 保存病退出\n",
    "    - vi 文件名  查看文件\n",
    "    - :q 退出"
   ]
  }
 ],
 "metadata": {
  "kernelspec": {
   "display_name": "Python 3",
   "language": "python",
   "name": "python3"
  },
  "language_info": {
   "codemirror_mode": {
    "name": "ipython",
    "version": 3
   },
   "file_extension": ".py",
   "mimetype": "text/x-python",
   "name": "python",
   "nbconvert_exporter": "python",
   "pygments_lexer": "ipython3",
   "version": "3.6.3"
  }
 },
 "nbformat": 4,
 "nbformat_minor": 2
}
