{
 "cells": [
  {
   "cell_type": "markdown",
   "metadata": {},
   "source": [
    "#### 打印0-100的所有奇数"
   ]
  },
  {
   "cell_type": "code",
   "execution_count": 1,
   "metadata": {},
   "outputs": [
    {
     "name": "stdout",
     "output_type": "stream",
     "text": [
      "1是奇数！\n",
      "3是奇数！\n",
      "5是奇数！\n",
      "7是奇数！\n",
      "9是奇数！\n",
      "11是奇数！\n",
      "13是奇数！\n",
      "15是奇数！\n",
      "17是奇数！\n",
      "19是奇数！\n",
      "21是奇数！\n",
      "23是奇数！\n",
      "25是奇数！\n",
      "27是奇数！\n",
      "29是奇数！\n",
      "31是奇数！\n",
      "33是奇数！\n",
      "35是奇数！\n",
      "37是奇数！\n",
      "39是奇数！\n",
      "41是奇数！\n",
      "43是奇数！\n",
      "45是奇数！\n",
      "47是奇数！\n",
      "49是奇数！\n",
      "51是奇数！\n",
      "53是奇数！\n",
      "55是奇数！\n",
      "57是奇数！\n",
      "59是奇数！\n",
      "61是奇数！\n",
      "63是奇数！\n",
      "65是奇数！\n",
      "67是奇数！\n",
      "69是奇数！\n",
      "71是奇数！\n",
      "73是奇数！\n",
      "75是奇数！\n",
      "77是奇数！\n",
      "79是奇数！\n",
      "81是奇数！\n",
      "83是奇数！\n",
      "85是奇数！\n",
      "87是奇数！\n",
      "89是奇数！\n",
      "91是奇数！\n",
      "93是奇数！\n",
      "95是奇数！\n",
      "97是奇数！\n",
      "99是奇数！\n"
     ]
    }
   ],
   "source": [
    "for i in range(0,101):\n",
    "    if i%2 !=0:\n",
    "        print(str(i)+\"是奇数！\")"
   ]
  },
  {
   "cell_type": "markdown",
   "metadata": {},
   "source": [
    "#### 有一个长阶梯，若每步上2阶，最后剩余1阶；如果每步上3阶，最后剩2阶；若每步上5阶，最后剩4阶；若每步上6阶，最后剩5阶\n",
    "#### 只有每步上七阶，最后刚好一阶不剩"
   ]
  },
  {
   "cell_type": "code",
   "execution_count": 7,
   "metadata": {},
   "outputs": [
    {
     "name": "stdout",
     "output_type": "stream",
     "text": [
      "119个阶梯\n"
     ]
    }
   ],
   "source": [
    "# 使用循环判断呗\n",
    "for i in range(1,1000):\n",
    "    if i%2==1 \\\n",
    "    and i%3==2 \\\n",
    "    and i%5==4 \\\n",
    "    and i%6==5 \\\n",
    "    and i%7==0: \n",
    "        print(str(i)+\"个阶梯\")\n",
    "        break # 求第一个就行了"
   ]
  },
  {
   "cell_type": "code",
   "execution_count": null,
   "metadata": {},
   "outputs": [],
   "source": []
  },
  {
   "cell_type": "code",
   "execution_count": null,
   "metadata": {},
   "outputs": [],
   "source": []
  },
  {
   "cell_type": "code",
   "execution_count": null,
   "metadata": {},
   "outputs": [],
   "source": []
  },
  {
   "cell_type": "code",
   "execution_count": null,
   "metadata": {},
   "outputs": [],
   "source": []
  },
  {
   "cell_type": "code",
   "execution_count": null,
   "metadata": {},
   "outputs": [],
   "source": []
  },
  {
   "cell_type": "code",
   "execution_count": null,
   "metadata": {},
   "outputs": [],
   "source": []
  }
 ],
 "metadata": {
  "kernelspec": {
   "display_name": "Python 3",
   "language": "python",
   "name": "python3"
  },
  "language_info": {
   "codemirror_mode": {
    "name": "ipython",
    "version": 3
   },
   "file_extension": ".py",
   "mimetype": "text/x-python",
   "name": "python",
   "nbconvert_exporter": "python",
   "pygments_lexer": "ipython3",
   "version": "3.7.3"
  }
 },
 "nbformat": 4,
 "nbformat_minor": 2
}
