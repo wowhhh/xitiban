{
 "cells": [
  {
   "cell_type": "markdown",
   "metadata": {},
   "source": [
    "#### append()和extend()和insert()\n",
    "- append ：追加，附加，增补 在列表末尾添加新的对象\n",
    "- extend ：列表末尾一次性追加另一个序列中的多个值（用新列表扩展原来的列表）。\n",
    "- insert : 将对象插入列表"
   ]
  },
  {
   "cell_type": "markdown",
   "metadata": {},
   "source": [
    "#### 假定给出一个列表 member= [\"xx\",\"yy\",\"zz\",\"sss\"]。想改变成 member= [\"xx\",99,\"yy\",\"88\",\"zz\",\"00\",\"sss\",\"2333\"]，改如何操作"
   ]
  },
  {
   "cell_type": "code",
   "execution_count": 6,
   "metadata": {},
   "outputs": [
    {
     "name": "stdout",
     "output_type": "stream",
     "text": [
      "['xx', 99, 'yy', '88', 'zz', '00', 'sss', '2333']\n"
     ]
    }
   ],
   "source": [
    "member= [\"xx\",\"yy\",\"zz\",\"sss\"]\n",
    "member.append(\"2333\")\n",
    "member.insert(1,99)\n",
    "member.insert(3,\"88\")\n",
    "member.insert(5,\"00\")\n",
    "print(member)"
   ]
  },
  {
   "cell_type": "markdown",
   "metadata": {},
   "source": [
    "#### 对于以下列表，修改里面的汉字“王王王” 为“王毅博”  ls = [1,[2,['王王王'],3,4],5,6,7,8,9]"
   ]
  },
  {
   "cell_type": "code",
   "execution_count": 12,
   "metadata": {},
   "outputs": [
    {
     "name": "stdout",
     "output_type": "stream",
     "text": [
      "[1, [2, ['王王王'], 3, 4], 5, 6, 7, 8, 9]\n",
      "[1, [2, ['王毅博'], 3, 4], 5, 6, 7, 8, 9]\n"
     ]
    }
   ],
   "source": [
    "ls = [1,[2,['王王王'],3,4],5,6,7,8,9]\n",
    "print(ls)\n",
    "ls[1][1][0] = \"王毅博\"\n",
    "print(ls)"
   ]
  },
  {
   "cell_type": "markdown",
   "metadata": {},
   "source": [
    "#### 将下列推导式还原出来\n",
    "- ls = [(x,y) for x in range(10) for y in range(10) if x%2==0 if y%2!=0]\n"
   ]
  },
  {
   "cell_type": "code",
   "execution_count": 21,
   "metadata": {},
   "outputs": [
    {
     "name": "stdout",
     "output_type": "stream",
     "text": [
      "[(0, 1), (0, 3), (0, 5), (0, 7), (0, 9), (2, 1), (2, 3), (2, 5), (2, 7), (2, 9), (4, 1), (4, 3), (4, 5), (4, 7), (4, 9), (6, 1), (6, 3), (6, 5), (6, 7), (6, 9), (8, 1), (8, 3), (8, 5), (8, 7), (8, 9)]\n"
     ]
    }
   ],
   "source": [
    "ls = list()\n",
    "for x in range(10):\n",
    "    for y in range(10):\n",
    "        if x%2==0 and y%2!=0:\n",
    "            #ls.append('({0},{1})'.format(x,y))\n",
    "            ls.append((x,y))\n",
    "print(ls)"
   ]
  }
 ],
 "metadata": {
  "kernelspec": {
   "display_name": "Python 3",
   "language": "python",
   "name": "python3"
  },
  "language_info": {
   "codemirror_mode": {
    "name": "ipython",
    "version": 3
   },
   "file_extension": ".py",
   "mimetype": "text/x-python",
   "name": "python",
   "nbconvert_exporter": "python",
   "pygments_lexer": "ipython3",
   "version": "3.7.3"
  }
 },
 "nbformat": 4,
 "nbformat_minor": 2
}
